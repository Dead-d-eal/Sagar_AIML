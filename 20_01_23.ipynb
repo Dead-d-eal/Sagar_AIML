{
  "nbformat": 4,
  "nbformat_minor": 0,
  "metadata": {
    "colab": {
      "provenance": [],
      "authorship_tag": "ABX9TyPHmhYBa2FBR+HqORv1T5iC",
      "include_colab_link": true
    },
    "kernelspec": {
      "name": "python3",
      "display_name": "Python 3"
    },
    "language_info": {
      "name": "python"
    }
  },
  "cells": [
    {
      "cell_type": "markdown",
      "metadata": {
        "id": "view-in-github",
        "colab_type": "text"
      },
      "source": [
        "<a href=\"https://colab.research.google.com/github/Dead-d-eal/Sagar_AIML/blob/main/20_01_23.ipynb\" target=\"_parent\"><img src=\"https://colab.research.google.com/assets/colab-badge.svg\" alt=\"Open In Colab\"/></a>"
      ]
    },
    {
      "cell_type": "code",
      "execution_count": 1,
      "metadata": {
        "colab": {
          "base_uri": "https://localhost:8080/"
        },
        "id": "EIf1hy9Ibszp",
        "outputId": "6d4759ee-d94d-44de-8b77-720d37e09af7"
      },
      "outputs": [
        {
          "output_type": "stream",
          "name": "stdout",
          "text": [
            "32\n"
          ]
        }
      ],
      "source": [
        "a=2\n",
        "b=5\n",
        "print(a**b)"
      ]
    },
    {
      "cell_type": "code",
      "source": [
        "#using / and //\n",
        "a=8\n",
        "b=3\n",
        "print(a/b)\n",
        "print(a//b)"
      ],
      "metadata": {
        "colab": {
          "base_uri": "https://localhost:8080/"
        },
        "id": "yRflbqlicA6Q",
        "outputId": "7a10893d-71c1-40be-85fc-1e68fc062843"
      },
      "execution_count": 2,
      "outputs": [
        {
          "output_type": "stream",
          "name": "stdout",
          "text": [
            "2.6666666666666665\n",
            "2\n"
          ]
        }
      ]
    },
    {
      "cell_type": "code",
      "source": [
        "a=True\n",
        "b=True\n",
        "c=False\n",
        "print(a and b)\n",
        "print(a and c)\n",
        "print(a or b)\n",
        "print(not c)"
      ],
      "metadata": {
        "colab": {
          "base_uri": "https://localhost:8080/"
        },
        "id": "mMhFxQHYchjm",
        "outputId": "e178e170-2add-47a9-b634-5f54816d14aa"
      },
      "execution_count": 3,
      "outputs": [
        {
          "output_type": "stream",
          "name": "stdout",
          "text": [
            "True\n",
            "False\n",
            "True\n",
            "True\n"
          ]
        }
      ]
    },
    {
      "cell_type": "code",
      "source": [
        "a=5\n",
        "b=2\n",
        "print(a<<b)\n",
        "print(a>>b)"
      ],
      "metadata": {
        "colab": {
          "base_uri": "https://localhost:8080/"
        },
        "id": "aWtW5qtTeqZ3",
        "outputId": "66c1dbc9-c9b7-4384-f37c-f8e9f78fdb8f"
      },
      "execution_count": 5,
      "outputs": [
        {
          "output_type": "stream",
          "name": "stdout",
          "text": [
            "20\n",
            "1\n"
          ]
        }
      ]
    },
    {
      "cell_type": "code",
      "source": [
        "#using ASSIGNMENT operator\n",
        "x=5\n",
        "x+=5\n",
        "print(x)\n",
        "x-=5\n",
        "print(x)\n",
        "x*=5\n",
        "print(x)\n",
        "x/=5\n",
        "print(x)\n",
        "x%=5\n",
        "print(x)\n",
        "x//=5\n",
        "print(x)"
      ],
      "metadata": {
        "colab": {
          "base_uri": "https://localhost:8080/"
        },
        "id": "mPGxajo1gFru",
        "outputId": "6d5e13ed-fe46-45d9-f39e-ad289dedfbaf"
      },
      "execution_count": 17,
      "outputs": [
        {
          "output_type": "stream",
          "name": "stdout",
          "text": [
            "10\n",
            "5\n",
            "25\n",
            "5.0\n",
            "0.0\n",
            "0.0\n"
          ]
        }
      ]
    },
    {
      "cell_type": "code",
      "source": [
        "x=5\n",
        "y=5\n",
        "print(x is y)\n",
        "y=6\n",
        "print(x is not y)"
      ],
      "metadata": {
        "colab": {
          "base_uri": "https://localhost:8080/"
        },
        "id": "E-4ZpS2tiq4c",
        "outputId": "c5c80347-da13-43aa-c588-d6eb74adab83"
      },
      "execution_count": 16,
      "outputs": [
        {
          "output_type": "stream",
          "name": "stdout",
          "text": [
            "True\n",
            "True\n"
          ]
        }
      ]
    },
    {
      "cell_type": "code",
      "source": [
        "x='HELLO'\n",
        "print('A' in x)\n",
        "print('A' not in x)"
      ],
      "metadata": {
        "colab": {
          "base_uri": "https://localhost:8080/"
        },
        "id": "reEG6tMgjgE2",
        "outputId": "52ca2889-e4fd-4e8d-df93-e64ba0549b8d"
      },
      "execution_count": 18,
      "outputs": [
        {
          "output_type": "stream",
          "name": "stdout",
          "text": [
            "False\n",
            "True\n"
          ]
        }
      ]
    },
    {
      "cell_type": "code",
      "source": [
        "#using if statement in python\n",
        "num=int(input(\"Enter a number: \"))\n",
        "if num%2==0:\n",
        "  print(\"Even no=\",num)"
      ],
      "metadata": {
        "colab": {
          "base_uri": "https://localhost:8080/"
        },
        "id": "ut_OxBqske25",
        "outputId": "615dba32-565d-4b4c-e44e-c262b980a970"
      },
      "execution_count": 19,
      "outputs": [
        {
          "output_type": "stream",
          "name": "stdout",
          "text": [
            "Enter a number: 24680\n",
            "Even no= 24680\n"
          ]
        }
      ]
    },
    {
      "cell_type": "code",
      "source": [
        "#using if-else statement in python\n",
        "num=int(input(\"Enter a number: \"))\n",
        "if num%2==0:\n",
        "  print(\"Even no=\",num)\n",
        "else :\n",
        "  print(\"Odd no=\",num)"
      ],
      "metadata": {
        "colab": {
          "base_uri": "https://localhost:8080/"
        },
        "id": "DC4Z6nPEliY0",
        "outputId": "e70e497f-29a7-4718-88b5-5186c6d3791b"
      },
      "execution_count": 21,
      "outputs": [
        {
          "output_type": "stream",
          "name": "stdout",
          "text": [
            "Enter a number: 233\n",
            "Odd no= 233\n"
          ]
        }
      ]
    },
    {
      "cell_type": "code",
      "source": [
        "#using else if statement in python\n",
        "x=int(input(\"Enter 1st number: \"))\n",
        "if x==10:\n",
        "  print(x,\"is equal to 10\")\n",
        "elif x==50:\n",
        "  print(x,\"is equal to 50\")\n",
        "else:\n",
        "  print(x,\"is not equal to 10 or 50\")"
      ],
      "metadata": {
        "colab": {
          "base_uri": "https://localhost:8080/"
        },
        "id": "wH-Lr0qCmXKH",
        "outputId": "a5341147-8c14-4679-9a01-601d5160a60d"
      },
      "execution_count": 25,
      "outputs": [
        {
          "output_type": "stream",
          "name": "stdout",
          "text": [
            "Enter 1st number: 23\n",
            "23 is not equal to 10 or 50\n"
          ]
        }
      ]
    },
    {
      "cell_type": "code",
      "source": [
        "#using for statement\n",
        "str=\"PYTHON\"\n",
        "for i in str:\n",
        "  print(i)"
      ],
      "metadata": {
        "colab": {
          "base_uri": "https://localhost:8080/"
        },
        "id": "E15YRxxvo97-",
        "outputId": "312a9fb2-9cf3-40e1-a340-7871f5a77894"
      },
      "execution_count": 28,
      "outputs": [
        {
          "output_type": "stream",
          "name": "stdout",
          "text": [
            "P\n",
            "Y\n",
            "T\n",
            "H\n",
            "O\n",
            "N\n"
          ]
        }
      ]
    }
  ]
}