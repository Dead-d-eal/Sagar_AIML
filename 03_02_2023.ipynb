{
  "cells": [
    {
      "cell_type": "markdown",
      "metadata": {
        "id": "view-in-github",
        "colab_type": "text"
      },
      "source": [
        "<a href=\"https://colab.research.google.com/github/Dead-d-eal/Sagar_AIML/blob/main/03_02_2023.ipynb\" target=\"_parent\"><img src=\"https://colab.research.google.com/assets/colab-badge.svg\" alt=\"Open In Colab\"/></a>"
      ]
    },
    {
      "cell_type": "markdown",
      "metadata": {
        "id": "R_yFXDrhaQmJ"
      },
      "source": [
        "Using List in Python"
      ]
    },
    {
      "cell_type": "code",
      "execution_count": null,
      "metadata": {
        "colab": {
          "base_uri": "https://localhost:8080/"
        },
        "id": "D3BIN2gsZgzA",
        "outputId": "1a7a41a3-1c78-45ce-cc08-5ba9419d4589"
      },
      "outputs": [
        {
          "name": "stdout",
          "output_type": "stream",
          "text": [
            "Enter your value: 4\n",
            "4\n",
            "8\n",
            "12\n",
            "16\n",
            "20\n",
            "24\n",
            "28\n",
            "32\n",
            "36\n",
            "40\n"
          ]
        }
      ],
      "source": [
        "list = [1,2,3,4,5,6,7,8,9,10]\n",
        "n=int(input(\"Enter your value: \"))\n",
        "for i in list:\n",
        "  c=n*i\n",
        "  print(c)\n"
      ]
    },
    {
      "cell_type": "code",
      "execution_count": null,
      "metadata": {
        "colab": {
          "base_uri": "https://localhost:8080/"
        },
        "id": "lMZSaFhleGDK",
        "outputId": "17bb4e22-6967-48de-d9dd-fa8ae1549c0b"
      },
      "outputs": [
        {
          "name": "stdout",
          "output_type": "stream",
          "text": [
            "The sum : 10\n",
            "The sum : 12\n",
            "The sum : 42\n",
            "The sum : 46\n",
            "The sum : 104\n",
            "The sum : 110\n",
            "The sum : 189\n",
            "The sum : 197\n",
            "The sum : 289\n",
            "The sum : 299\n"
          ]
        }
      ],
      "source": [
        "list = [10,2,30,4,58,6,79,8,92,10]\n",
        "sum=0\n",
        "for i in list:\n",
        "  sum=sum+i\n",
        "  print(\"The sum :\",sum)"
      ]
    },
    {
      "cell_type": "markdown",
      "metadata": {
        "id": "jH6cm5dVgzZL"
      },
      "source": [
        "Using range function i\n",
        "n for loop"
      ]
    },
    {
      "cell_type": "code",
      "execution_count": null,
      "metadata": {
        "colab": {
          "base_uri": "https://localhost:8080/"
        },
        "id": "ZJL2WwMwgwm2",
        "outputId": "d8426b77-ed35-47c4-d308-d2a1bf26786f"
      },
      "outputs": [
        {
          "name": "stdout",
          "output_type": "stream",
          "text": [
            "0 1 2 3 4 5 6 7 8 9 "
          ]
        }
      ],
      "source": [
        "for i in range(10):\n",
        "  print(i,end=' ')"
      ]
    },
    {
      "cell_type": "code",
      "execution_count": null,
      "metadata": {
        "colab": {
          "base_uri": "https://localhost:8080/"
        },
        "id": "QksKm-AQhkgy",
        "outputId": "07f7e3b7-afa3-4e8e-e147-08a0d807a536"
      },
      "outputs": [
        {
          "name": "stdout",
          "output_type": "stream",
          "text": [
            "Enter the number: 5\n",
            "5 X 1 = 5\n",
            "5 X 2 = 10\n",
            "5 X 3 = 15\n",
            "5 X 4 = 20\n",
            "5 X 5 = 25\n",
            "5 X 6 = 30\n",
            "5 X 7 = 35\n",
            "5 X 8 = 40\n",
            "5 X 9 = 45\n",
            "5 X 10 = 50\n"
          ]
        }
      ],
      "source": [
        "n=int(input(\"Enter the number: \"))\n",
        "for i in range(1,11):\n",
        "  c=n*i\n",
        "  print(n,'X',i,'=',c)"
      ]
    },
    {
      "cell_type": "code",
      "execution_count": null,
      "metadata": {
        "colab": {
          "base_uri": "https://localhost:8080/"
        },
        "id": "G7AYrFocilZE",
        "outputId": "95da392a-39da-4be8-fb07-847ceea08237"
      },
      "outputs": [
        {
          "name": "stdout",
          "output_type": "stream",
          "text": [
            "Enter the value: 20\n",
            "2\n",
            "4\n",
            "6\n",
            "8\n",
            "10\n",
            "12\n",
            "14\n",
            "16\n",
            "18\n"
          ]
        }
      ],
      "source": [
        "n=int(input(\"Enter the value: \"))\n",
        "for i in range(2,n,2):\n",
        "  print(i)"
      ]
    },
    {
      "cell_type": "code",
      "execution_count": null,
      "metadata": {
        "colab": {
          "base_uri": "https://localhost:8080/"
        },
        "id": "syAGoeUtjkcv",
        "outputId": "4e64cf6c-f01f-4c6d-f213-c05027d98fb7"
      },
      "outputs": [
        {
          "name": "stdout",
          "output_type": "stream",
          "text": [
            "Enter the value: 20\n",
            "2\n",
            "6\n",
            "12\n",
            "20\n",
            "30\n",
            "42\n",
            "56\n",
            "72\n",
            "90\n"
          ]
        }
      ],
      "source": [
        "n=int(input(\"Enter the value: \"))\n",
        "sum=0\n",
        "for i in range(2,n,2):\n",
        "  sum=sum+i\n",
        "  print(sum)"
      ]
    },
    {
      "cell_type": "code",
      "execution_count": null,
      "metadata": {
        "colab": {
          "base_uri": "https://localhost:8080/"
        },
        "id": "VDEvGXxPl5GU",
        "outputId": "c32e3a83-d4b1-4c97-8460-08c4ca9c4efd"
      },
      "outputs": [
        {
          "name": "stdout",
          "output_type": "stream",
          "text": [
            "Hello Sagar\n",
            "Hello Abhisek\n",
            "Hello Girish\n",
            "Hello Sovanjeet\n",
            "Hello Laxmiranajan\n",
            "Hello Saisagar\n"
          ]
        }
      ],
      "source": [
        "list=['Sagar','Abhisek','Girish','Sovanjeet','Laxmiranajan','Saisagar']\n",
        "for i in range(len(list)):\n",
        "  print(\"Hello\",list[i])"
      ]
    },
    {
      "cell_type": "markdown",
      "metadata": {
        "id": "Hw19g03WnSHf"
      },
      "source": [
        "Nested loop using Python"
      ]
    },
    {
      "cell_type": "code",
      "execution_count": null,
      "metadata": {
        "colab": {
          "base_uri": "https://localhost:8080/"
        },
        "id": "LXuPqI-OnX7-",
        "outputId": "3daf5d64-e44e-45ff-8240-0b74e54e0a62"
      },
      "outputs": [
        {
          "name": "stdout",
          "output_type": "stream",
          "text": [
            "0 0 0 0 0  \n",
            "1 1 1 1 1  \n",
            "2 2 2 2 2  \n",
            "3 3 3 3 3  \n",
            "4 4 4 4 4  \n"
          ]
        }
      ],
      "source": [
        "for i in range(5):\n",
        "  for j in range(5):\n",
        "    print(i,end=' ')\n",
        "  print(' ')"
      ]
    },
    {
      "cell_type": "code",
      "execution_count": null,
      "metadata": {
        "colab": {
          "base_uri": "https://localhost:8080/"
        },
        "id": "aqUUEssjoQ3Y",
        "outputId": "ddc636b1-02e4-4131-8cd2-5efbb4d640a5"
      },
      "outputs": [
        {
          "name": "stdout",
          "output_type": "stream",
          "text": [
            "1 1 1 1 1  \n",
            "2 2 2 2 2  \n",
            "3 3 3 3 3  \n",
            "4 4 4 4 4  \n",
            "5 5 5 5 5  \n"
          ]
        }
      ],
      "source": [
        "for i in range(1,6):\n",
        "  for j in range(1,6):\n",
        "    print(i,end=' ')\n",
        "  print(' ')"
      ]
    },
    {
      "cell_type": "code",
      "execution_count": null,
      "metadata": {
        "colab": {
          "base_uri": "https://localhost:8080/"
        },
        "id": "UEBludj1ollF",
        "outputId": "2c2f7422-8a98-4886-b198-58dd7800933a"
      },
      "outputs": [
        {
          "name": "stdout",
          "output_type": "stream",
          "text": [
            "1 1 1 1 1  \n",
            "2 2 2 2 2  \n",
            "3 3 3 3 3  \n",
            "4 4 4 4 4  \n",
            "5 5 5 5 5  \n"
          ]
        }
      ],
      "source": [
        "for i in range(5):\n",
        "  for j in range(5):\n",
        "    print(i+1,end=' ')\n",
        "  print(' ')"
      ]
    },
    {
      "cell_type": "code",
      "execution_count": null,
      "metadata": {
        "colab": {
          "base_uri": "https://localhost:8080/"
        },
        "id": "vHr89HNvolNy",
        "outputId": "67abcec2-6f10-4ee8-db04-dc7d9acf20e2"
      },
      "outputs": [
        {
          "name": "stdout",
          "output_type": "stream",
          "text": [
            "Enter the rows: 5\n",
            " \n",
            "*  \n",
            "* *  \n",
            "* * *  \n",
            "* * * *  \n",
            "* * * * *  \n"
          ]
        }
      ],
      "source": [
        "rows=int(input(\"Enter the rows: \"))\n",
        "for i in range(0,rows+1):\n",
        "  for j in range(i):\n",
        "    print('*',end=' ')\n",
        "  print(' ')"
      ]
    },
    {
      "cell_type": "markdown",
      "metadata": {
        "id": "9k_BDRAPrBX6"
      },
      "source": [
        "While loop using in Python"
      ]
    },
    {
      "cell_type": "code",
      "execution_count": null,
      "metadata": {
        "colab": {
          "base_uri": "https://localhost:8080/"
        },
        "id": "n8R8qqyVrHWP",
        "outputId": "02d52bef-6966-4955-ee99-e0f5128b0224"
      },
      "outputs": [
        {
          "name": "stdout",
          "output_type": "stream",
          "text": [
            "Sum is:  55\n"
          ]
        }
      ],
      "source": [
        "s=0\n",
        "i=1\n",
        "while i<=10:\n",
        "  s=s+i\n",
        "  i=i+1\n",
        "print(\"Sum is: \",s)"
      ]
    },
    {
      "cell_type": "code",
      "execution_count": null,
      "metadata": {
        "colab": {
          "base_uri": "https://localhost:8080/"
        },
        "id": "uRZy9dv4sKS0",
        "outputId": "904f196c-96fe-4e4a-d73e-87cdc96c3d1e"
      },
      "outputs": [
        {
          "name": "stdout",
          "output_type": "stream",
          "text": [
            "Enter a number: 123\n",
            "Reverse is:  321\n"
          ]
        }
      ],
      "source": [
        "num=int(input(\"Enter a number: \"))\n",
        "rev=0\n",
        "while num>0:\n",
        "  rem=int(num%10)\n",
        "  rev=rev*10+rem\n",
        "  num=int(num/10)\n",
        "print(\"Reverse is: \",rev)"
      ]
    },
    {
      "cell_type": "code",
      "execution_count": null,
      "metadata": {
        "colab": {
          "base_uri": "https://localhost:8080/"
        },
        "id": "oxfYv3pfvWH8",
        "outputId": "194bd95d-e75a-49bc-8239-5e8c085afd6d"
      },
      "outputs": [
        {
          "name": "stdout",
          "output_type": "stream",
          "text": [
            "1\n",
            "2\n",
            "3\n",
            "4\n",
            "5\n"
          ]
        }
      ],
      "source": [
        "#break statement\n",
        "i=1\n",
        "while i<10:\n",
        "  print(i)\n",
        "  if i==5:\n",
        "    break\n",
        "  i=i+1"
      ]
    },
    {
      "cell_type": "code",
      "execution_count": null,
      "metadata": {
        "colab": {
          "background_save": true,
          "base_uri": "https://localhost:8080/"
        },
        "id": "jFfCiW7XwQk9",
        "outputId": "24052823-fbd0-4e13-f689-b8075bee6a2a"
      },
      "outputs": [
        {
          "name": "stdout",
          "output_type": "stream",
          "text": [
            "1\n",
            "2\n",
            "3\n",
            "4\n"
          ]
        }
      ],
      "source": [
        "#using statement\n",
        "i=1\n",
        "while i<=10:\n",
        "  if i==5:\n",
        "   continue\n",
        "  print(i)\n",
        "  i=i+1\n"
      ]
    }
  ],
  "metadata": {
    "colab": {
      "provenance": [],
      "authorship_tag": "ABX9TyMmC/D60SgAyyr4Ml0n4snN",
      "include_colab_link": true
    },
    "kernelspec": {
      "display_name": "Python 3",
      "name": "python3"
    },
    "language_info": {
      "name": "python"
    }
  },
  "nbformat": 4,
  "nbformat_minor": 0
}