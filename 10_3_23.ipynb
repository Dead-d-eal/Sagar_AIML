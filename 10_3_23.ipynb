{
  "nbformat": 4,
  "nbformat_minor": 0,
  "metadata": {
    "colab": {
      "provenance": [],
      "authorship_tag": "ABX9TyMj+HCxB8eO4uE/6YscSsv/",
      "include_colab_link": true
    },
    "kernelspec": {
      "name": "python3",
      "display_name": "Python 3"
    },
    "language_info": {
      "name": "python"
    }
  },
  "cells": [
    {
      "cell_type": "markdown",
      "metadata": {
        "id": "view-in-github",
        "colab_type": "text"
      },
      "source": [
        "<a href=\"https://colab.research.google.com/github/Dead-d-eal/Sagar_AIML/blob/main/10_3_23.ipynb\" target=\"_parent\"><img src=\"https://colab.research.google.com/assets/colab-badge.svg\" alt=\"Open In Colab\"/></a>"
      ]
    },
    {
      "cell_type": "markdown",
      "source": [
        ":Write a python program the base class contain addition of two no but the derive class contain multiplication of samr number "
      ],
      "metadata": {
        "id": "sXz-ckmrqKJe"
      }
    },
    {
      "cell_type": "code",
      "execution_count": 2,
      "metadata": {
        "colab": {
          "base_uri": "https://localhost:8080/"
        },
        "id": "3OQauWuupw9y",
        "outputId": "ca31aadf-a5a5-4157-f41f-68c5888c5808"
      },
      "outputs": [
        {
          "output_type": "stream",
          "name": "stdout",
          "text": [
            "Enter the vaue of a: 2\n",
            "Enter the value of b: 3\n",
            "The addition is: 5\n",
            "The multiplication is: 6\n"
          ]
        }
      ],
      "source": [
        "class A:\n",
        "  def add(self,a,b):\n",
        "    return a+b\n",
        "class B(A):\n",
        "  def mul(self,a,b):\n",
        "    return a*b\n",
        "c=B()\n",
        "a=int(input(\"Enter the vaue of a: \"))\n",
        "b=int(input(\"Enter the value of b: \"))\n",
        "print(\"The addition is:\",c.add(a,b))\n",
        "print(\"The multiplication is:\",c.mul(a,b))"
      ]
    },
    {
      "cell_type": "markdown",
      "source": [
        "write a python program using multilevel inheritance to devlop a calculator which contains four derived of derive class and one child class"
      ],
      "metadata": {
        "id": "Rfszy_02v3Nw"
      }
    },
    {
      "cell_type": "code",
      "source": [
        "class A:\n",
        "  def add(self,x,y):\n",
        "    return x+y\n",
        "class B(A):\n",
        "  def sub(self,x,y):\n",
        "    return x-y\n",
        "class C(B):\n",
        "  def mul(self,x,y):\n",
        "    return x*y\n",
        "class D(C):\n",
        "  def div(self,x,y):\n",
        "    return x/y\n",
        "e=D()\n",
        "x=int(input(\"Enter the value of x: \"))\n",
        "y=int(input(\"Enter the value of y: \"))\n",
        "ch=int(input(\"Enter your choice: \"))\n",
        "if ch==1:\n",
        "  print(e.add(x,y))\n",
        "elif ch==2:\n",
        "  print(e.sub(x,y))\n",
        "elif ch==3:\n",
        "  print(e.mul(x,y))\n",
        "elif ch==4:\n",
        "  print(e.div(x,y))"
      ],
      "metadata": {
        "colab": {
          "base_uri": "https://localhost:8080/"
        },
        "id": "gMSCjvAixWj1",
        "outputId": "4d882b30-9008-47f4-e8e3-933a6a55ae11"
      },
      "execution_count": 3,
      "outputs": [
        {
          "output_type": "stream",
          "name": "stdout",
          "text": [
            "Enter the value of x: 2\n",
            "Enter the value of y: 3\n",
            "Enter your choice: 3\n",
            "6\n"
          ]
        }
      ]
    },
    {
      "cell_type": "markdown",
      "source": [
        "Write a python program to input employee infaormation employee id, name, basic salary,hra=15%,pa=5% and medical allowence is 5000 and its 10% more than 10000 using sinle inheritance the base cls contains all the employee informations but the derive class contaions net salary of a employee with all informations."
      ],
      "metadata": {
        "id": "5tR-XdLb0O6K"
      }
    },
    {
      "cell_type": "code",
      "source": [],
      "metadata": {
        "id": "C4BK9bucz0M5"
      },
      "execution_count": null,
      "outputs": []
    },
    {
      "cell_type": "markdown",
      "source": [
        "Numpy "
      ],
      "metadata": {
        "id": "u26eRLRz4kqb"
      }
    },
    {
      "cell_type": "code",
      "source": [
        "import numpy as np\n",
        "print(np.__version__)"
      ],
      "metadata": {
        "colab": {
          "base_uri": "https://localhost:8080/"
        },
        "id": "MGnVs4p84nMq",
        "outputId": "b6362d88-a99f-418b-8615-00eae341bc6f"
      },
      "execution_count": 4,
      "outputs": [
        {
          "output_type": "stream",
          "name": "stdout",
          "text": [
            "1.22.4\n"
          ]
        }
      ]
    },
    {
      "cell_type": "code",
      "source": [
        "import numpy\n",
        "list=[10,20,30,40,50]\n",
        "arr=numpy.array(list)\n",
        "print(arr)"
      ],
      "metadata": {
        "colab": {
          "base_uri": "https://localhost:8080/"
        },
        "id": "5tKLEst56Emd",
        "outputId": "32ef46b3-7966-426b-9d59-db2418699ade"
      },
      "execution_count": 5,
      "outputs": [
        {
          "output_type": "stream",
          "name": "stdout",
          "text": [
            "[10 20 30 40 50]\n"
          ]
        }
      ]
    },
    {
      "cell_type": "code",
      "source": [
        "import numpy as np\n",
        "list=[10,20,30,40,50]\n",
        "arr=np.array(list)\n",
        "print('size:',arr.size)\n",
        "print('data type:',arr.dtype)\n",
        "print('dimension:',arr.ndim)\n",
        "print('shape:',arr.shape)"
      ],
      "metadata": {
        "colab": {
          "base_uri": "https://localhost:8080/"
        },
        "id": "4FerCxNG69Jw",
        "outputId": "9e2f6d29-0547-4d31-c665-686122f6c8cc"
      },
      "execution_count": 6,
      "outputs": [
        {
          "output_type": "stream",
          "name": "stdout",
          "text": [
            "size: 5\n",
            "data type: int64\n",
            "dimension: 1\n",
            "shape: (5,)\n"
          ]
        }
      ]
    },
    {
      "cell_type": "code",
      "source": [
        "import numpy as np\n",
        "list=[10,20,30],[60,70,80]\n",
        "arr=np.array(list)\n",
        "print(arr)"
      ],
      "metadata": {
        "colab": {
          "base_uri": "https://localhost:8080/"
        },
        "id": "wiVkw7km7tW7",
        "outputId": "d84b9c9a-6696-4390-f17d-2b79f1d149c1"
      },
      "execution_count": 7,
      "outputs": [
        {
          "output_type": "stream",
          "name": "stdout",
          "text": [
            "[[10 20 30]\n",
            " [60 70 80]]\n"
          ]
        }
      ]
    },
    {
      "cell_type": "code",
      "source": [
        "import numpy as np\n",
        "list=[10,20,30],[60,70,80]\n",
        "arr=np.array(list)\n",
        "print(arr[1])"
      ],
      "metadata": {
        "colab": {
          "base_uri": "https://localhost:8080/"
        },
        "id": "eWnMBhlP8TVT",
        "outputId": "55646d44-c2c6-412c-8f60-bede37e89787"
      },
      "execution_count": 8,
      "outputs": [
        {
          "output_type": "stream",
          "name": "stdout",
          "text": [
            "[60 70 80]\n"
          ]
        }
      ]
    },
    {
      "cell_type": "code",
      "source": [
        "import numpy as np\n",
        "list=[10,20,30],[60,70,80]\n",
        "arr=np.array(list)\n",
        "print(arr[1][1])"
      ],
      "metadata": {
        "colab": {
          "base_uri": "https://localhost:8080/"
        },
        "id": "cp_g6yZP8dTB",
        "outputId": "1f16af2b-b9d4-465b-e7f5-c760ca66d9c9"
      },
      "execution_count": 9,
      "outputs": [
        {
          "output_type": "stream",
          "name": "stdout",
          "text": [
            "70\n"
          ]
        }
      ]
    },
    {
      "cell_type": "code",
      "source": [
        "import numpy as np\n",
        "list=[[[1,2,3],[4,5,6],[7,8,9]]]\n",
        "arr=np.array(list)\n",
        "print(arr)"
      ],
      "metadata": {
        "colab": {
          "base_uri": "https://localhost:8080/"
        },
        "id": "x8g92zDZ-ZLk",
        "outputId": "097cb0f8-e797-4fc1-b0e4-1a491cfecf68"
      },
      "execution_count": 11,
      "outputs": [
        {
          "output_type": "stream",
          "name": "stdout",
          "text": [
            "[[[1 2 3]\n",
            "  [4 5 6]\n",
            "  [7 8 9]]]\n"
          ]
        }
      ]
    },
    {
      "cell_type": "code",
      "source": [
        "import numpy as np\n",
        "list=[10,20,30,40,50]\n",
        "arr=np.array(list)\n",
        "print('Element')\n",
        "for ele in arr:\n",
        "  print(ele*2)"
      ],
      "metadata": {
        "colab": {
          "base_uri": "https://localhost:8080/"
        },
        "id": "mC_uMS4w_qcX",
        "outputId": "a9f96a13-35e8-4fb1-ae08-b3188ce6ce98"
      },
      "execution_count": 13,
      "outputs": [
        {
          "output_type": "stream",
          "name": "stdout",
          "text": [
            "Element\n",
            "20\n",
            "40\n",
            "60\n",
            "80\n",
            "100\n"
          ]
        }
      ]
    },
    {
      "cell_type": "code",
      "source": [
        "import numpy as np\n",
        "arr=np.array([1,2,3,4],ndmin=6)\n",
        "print(arr)\n",
        "print('Dimensions of array:',arr.ndim)"
      ],
      "metadata": {
        "colab": {
          "base_uri": "https://localhost:8080/"
        },
        "id": "glxgGfmTARkz",
        "outputId": "2cbc2c79-69d1-4e67-a0e1-e300ba1d3e63"
      },
      "execution_count": 16,
      "outputs": [
        {
          "output_type": "stream",
          "name": "stdout",
          "text": [
            "[[[[[[1 2 3 4]]]]]]\n",
            "Dimensions of array: 6\n"
          ]
        }
      ]
    }
  ]
}