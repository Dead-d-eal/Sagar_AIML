{
  "nbformat": 4,
  "nbformat_minor": 0,
  "metadata": {
    "colab": {
      "provenance": [],
      "authorship_tag": "ABX9TyPNX3Q5SgVUA1Q8/2GN50pp",
      "include_colab_link": true
    },
    "kernelspec": {
      "name": "python3",
      "display_name": "Python 3"
    },
    "language_info": {
      "name": "python"
    }
  },
  "cells": [
    {
      "cell_type": "markdown",
      "metadata": {
        "id": "view-in-github",
        "colab_type": "text"
      },
      "source": [
        "<a href=\"https://colab.research.google.com/github/Dead-d-eal/Sagar_AIML/blob/main/24_2_23.ipynb\" target=\"_parent\"><img src=\"https://colab.research.google.com/assets/colab-badge.svg\" alt=\"Open In Colab\"/></a>"
      ]
    },
    {
      "cell_type": "code",
      "execution_count": 1,
      "metadata": {
        "colab": {
          "base_uri": "https://localhost:8080/"
        },
        "id": "az75PVrZm6W4",
        "outputId": "8d6b7468-8856-490b-86ea-29141829899a"
      },
      "outputs": [
        {
          "output_type": "stream",
          "name": "stdout",
          "text": [
            "30\n"
          ]
        }
      ],
      "source": [
        "def sum(a,b):\n",
        "  return(a+b)\n",
        "print(sum(10,20))"
      ]
    },
    {
      "cell_type": "code",
      "source": [
        "def pat(n):\n",
        "  for i in range(0,n+1):\n",
        "    for j in range(i):\n",
        "      print(i,end='')\n",
        "    print()\n",
        "n=int(input(\"Enter a number: \"))\n",
        "pat(n)"
      ],
      "metadata": {
        "colab": {
          "base_uri": "https://localhost:8080/"
        },
        "id": "BF1yf9cxoJg4",
        "outputId": "4c714abf-409e-42a0-8832-aa9c45630108"
      },
      "execution_count": 10,
      "outputs": [
        {
          "output_type": "stream",
          "name": "stdout",
          "text": [
            "Enter a number: 5\n",
            "\n",
            "1\n",
            "22\n",
            "333\n",
            "4444\n",
            "55555\n"
          ]
        }
      ]
    },
    {
      "cell_type": "code",
      "source": [
        "def pat(n):\n",
        "  for i in range(n,0,-1):\n",
        "    for j in range(0,i):\n",
        "      print(i,end='')\n",
        "    print()\n",
        "n=int(input(\"Enter a number: \"))\n",
        "pat(n)"
      ],
      "metadata": {
        "colab": {
          "base_uri": "https://localhost:8080/"
        },
        "id": "cO5O3yxNqDBk",
        "outputId": "273ad256-fc4b-4a2f-be83-5029f7078718"
      },
      "execution_count": 12,
      "outputs": [
        {
          "output_type": "stream",
          "name": "stdout",
          "text": [
            "Enter a number: 5\n",
            "55555\n",
            "4444\n",
            "333\n",
            "22\n",
            "1\n"
          ]
        }
      ]
    },
    {
      "cell_type": "code",
      "source": [
        "def greet():\n",
        "  message='Hello'\n",
        "  print('local',message)\n",
        "greet()\n",
        "message='ABIT'\n",
        "print(message)"
      ],
      "metadata": {
        "colab": {
          "base_uri": "https://localhost:8080/"
        },
        "id": "c3r7HjttsyW7",
        "outputId": "1ad15328-3b3c-4286-aeda-ef8a2a824cc5"
      },
      "execution_count": 13,
      "outputs": [
        {
          "output_type": "stream",
          "name": "stdout",
          "text": [
            "local Hello\n",
            "ABIT\n"
          ]
        }
      ]
    },
    {
      "cell_type": "code",
      "source": [
        "add=lambda num:num+4\n",
        "print(add(6))"
      ],
      "metadata": {
        "colab": {
          "base_uri": "https://localhost:8080/"
        },
        "id": "OZ86dH5luwOb",
        "outputId": "f4afe02a-afc4-40de-d7f1-522e01740fdb"
      },
      "execution_count": 16,
      "outputs": [
        {
          "output_type": "stream",
          "name": "stdout",
          "text": [
            "10\n"
          ]
        }
      ]
    },
    {
      "cell_type": "code",
      "source": [
        "a=lambda x,y:x+y\n",
        "print(a(1,2))"
      ],
      "metadata": {
        "colab": {
          "base_uri": "https://localhost:8080/"
        },
        "id": "uZfGIXzwwhY-",
        "outputId": "8ee3f66e-a18a-4ad4-b07e-eae3f35dd1f1"
      },
      "execution_count": 17,
      "outputs": [
        {
          "output_type": "stream",
          "name": "stdout",
          "text": [
            "3\n"
          ]
        }
      ]
    },
    {
      "cell_type": "code",
      "source": [
        "b=lambda x,y,z:x+y+z\n",
        "x=int(input(\"Enter x value: \"))\n",
        "y=int(input(\"Enter y value: \"))\n",
        "z=int(input(\"Enter z value: \"))\n",
        "print(b(x,y,z))"
      ],
      "metadata": {
        "colab": {
          "base_uri": "https://localhost:8080/"
        },
        "id": "aGHhKPKgw75u",
        "outputId": "7d34f297-5a78-43ca-98cc-51ea4929dd2b"
      },
      "execution_count": 18,
      "outputs": [
        {
          "output_type": "stream",
          "name": "stdout",
          "text": [
            "Enter x value: 2\n",
            "Enter y value: 3\n",
            "Enter z value: 4\n",
            "9\n"
          ]
        }
      ]
    },
    {
      "cell_type": "code",
      "source": [
        "def factorial(x):\n",
        "  if x==1:\n",
        "    return 1\n",
        "  else:\n",
        "    return(x*factorial(x-1))\n",
        "n=int(input(\"Enter a value: \"))\n",
        "print(\"The factorial of\",n,\":\",factorial(n))"
      ],
      "metadata": {
        "colab": {
          "base_uri": "https://localhost:8080/"
        },
        "id": "LcypXC1DyGH7",
        "outputId": "9c407f93-89f7-4ad8-f073-4660d3be73b5"
      },
      "execution_count": 20,
      "outputs": [
        {
          "output_type": "stream",
          "name": "stdout",
          "text": [
            "Enter a value: 3\n",
            "The factorial of 3 : 6\n"
          ]
        }
      ]
    },
    {
      "cell_type": "code",
      "source": [
        "import math as s\n",
        "pie=s.pi\n",
        "print(\"The value of pi is \",pie)"
      ],
      "metadata": {
        "colab": {
          "base_uri": "https://localhost:8080/"
        },
        "id": "oN24xp4e1qKD",
        "outputId": "f61e7b22-0168-4ad7-d96c-800a41e7229b"
      },
      "execution_count": 23,
      "outputs": [
        {
          "output_type": "stream",
          "name": "stdout",
          "text": [
            "The value of pi is  3.141592653589793\n"
          ]
        }
      ]
    },
    {
      "cell_type": "code",
      "source": [
        "import random as r\n",
        "for i in range(10):\n",
        "  print(r.randint(1,25))"
      ],
      "metadata": {
        "colab": {
          "base_uri": "https://localhost:8080/"
        },
        "id": "6gxLhu0y18f5",
        "outputId": "30f186e8-9ad2-4861-b68e-89538006b4f0"
      },
      "execution_count": 24,
      "outputs": [
        {
          "output_type": "stream",
          "name": "stdout",
          "text": [
            "15\n",
            "9\n",
            "12\n",
            "20\n",
            "14\n",
            "19\n",
            "11\n",
            "8\n",
            "17\n",
            "4\n"
          ]
        }
      ]
    },
    {
      "cell_type": "code",
      "source": [
        "import random as r\n",
        "import math as m\n",
        "for i in range(5):\n",
        "  print(r.randint(1,25))\n",
        "print(m.pi)"
      ],
      "metadata": {
        "colab": {
          "base_uri": "https://localhost:8080/"
        },
        "id": "qA9YpJZu3n1c",
        "outputId": "44e9ea4a-0d67-49b5-f114-a74697593946"
      },
      "execution_count": 25,
      "outputs": [
        {
          "output_type": "stream",
          "name": "stdout",
          "text": [
            "3\n",
            "7\n",
            "2\n",
            "15\n",
            "7\n",
            "3.141592653589793\n"
          ]
        }
      ]
    }
  ]
}