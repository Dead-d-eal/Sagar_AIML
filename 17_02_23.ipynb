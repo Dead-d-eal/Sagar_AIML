{
  "nbformat": 4,
  "nbformat_minor": 0,
  "metadata": {
    "colab": {
      "provenance": [],
      "authorship_tag": "ABX9TyN/iRoEyOk4xACEuMLQnbzf",
      "include_colab_link": true
    },
    "kernelspec": {
      "name": "python3",
      "display_name": "Python 3"
    },
    "language_info": {
      "name": "python"
    }
  },
  "cells": [
    {
      "cell_type": "markdown",
      "metadata": {
        "id": "view-in-github",
        "colab_type": "text"
      },
      "source": [
        "<a href=\"https://colab.research.google.com/github/Dead-d-eal/Sagar_AIML/blob/main/17_02_23.ipynb\" target=\"_parent\"><img src=\"https://colab.research.google.com/assets/colab-badge.svg\" alt=\"Open In Colab\"/></a>"
      ]
    },
    {
      "cell_type": "code",
      "execution_count": null,
      "metadata": {
        "colab": {
          "base_uri": "https://localhost:8080/"
        },
        "id": "vELR0lp8nwyT",
        "outputId": "2850e9f0-9286-4b9a-ddbe-1d43850d79a5"
      },
      "outputs": [
        {
          "output_type": "stream",
          "name": "stdout",
          "text": [
            "A\n",
            "I\n",
            "T\n"
          ]
        }
      ],
      "source": [
        "for var in \"ABIT\":\n",
        "  if var==\"B\":\n",
        "    continue\n",
        "  print(var)"
      ]
    },
    {
      "cell_type": "code",
      "source": [
        "for i in range(10):\n",
        "  print(i)\n",
        "  if i==2:\n",
        "    break"
      ],
      "metadata": {
        "colab": {
          "base_uri": "https://localhost:8080/"
        },
        "id": "ZTlN5PRspgUV",
        "outputId": "581f2e90-fc7d-4a3c-af4c-1c6f36c9ee9f"
      },
      "execution_count": null,
      "outputs": [
        {
          "output_type": "stream",
          "name": "stdout",
          "text": [
            "0\n",
            "1\n",
            "2\n"
          ]
        }
      ]
    },
    {
      "cell_type": "markdown",
      "source": [
        "write a python program print 1 to 10 & remove 5"
      ],
      "metadata": {
        "id": "K4WEVaB1qHPu"
      }
    },
    {
      "cell_type": "code",
      "source": [
        "for i in range(10):\n",
        "  if i==5:\n",
        "    continue\n",
        "  print(i)"
      ],
      "metadata": {
        "colab": {
          "base_uri": "https://localhost:8080/"
        },
        "id": "HVdR38zyqRx5",
        "outputId": "7727bfeb-ecec-42e2-ea5c-f83fce855851"
      },
      "execution_count": null,
      "outputs": [
        {
          "output_type": "stream",
          "name": "stdout",
          "text": [
            "0\n",
            "1\n",
            "2\n",
            "3\n",
            "4\n",
            "6\n",
            "7\n",
            "8\n",
            "9\n"
          ]
        }
      ]
    },
    {
      "cell_type": "code",
      "source": [
        "li = ['a','b','c','d']\n",
        "\n",
        "for i in li:\n",
        "  if i=='a':\n",
        "    pass\n",
        "  else:\n",
        "    print(i)"
      ],
      "metadata": {
        "colab": {
          "base_uri": "https://localhost:8080/"
        },
        "id": "ZSUpD5h4rkCu",
        "outputId": "5d0338bd-560a-4eb6-8530-700e1a23f6b8"
      },
      "execution_count": null,
      "outputs": [
        {
          "output_type": "stream",
          "name": "stdout",
          "text": [
            "b\n",
            "c\n",
            "d\n"
          ]
        }
      ]
    },
    {
      "cell_type": "markdown",
      "source": [
        "Write a python program to print n even nos and pass the value after 10 upto n"
      ],
      "metadata": {
        "id": "J9E3kldUsXGn"
      }
    },
    {
      "cell_type": "code",
      "source": [
        "n=int(input(\"Enter a number: \"))\n",
        "for i in range(0,n+1,2):\n",
        "  if i<=10:\n",
        "    pass \n",
        "  else:\n",
        "    print(i)"
      ],
      "metadata": {
        "colab": {
          "base_uri": "https://localhost:8080/"
        },
        "id": "Fp-qDAXGsn2D",
        "outputId": "154eec21-75bf-4446-c058-08236f5fdbff"
      },
      "execution_count": null,
      "outputs": [
        {
          "output_type": "stream",
          "name": "stdout",
          "text": [
            "Enter a number: 20\n",
            "12\n",
            "14\n",
            "16\n",
            "18\n",
            "20\n"
          ]
        }
      ]
    },
    {
      "cell_type": "code",
      "source": [
        "def SHOW():\n",
        "  print(\"HELLOPYTHON\")\n",
        "SHOW()"
      ],
      "metadata": {
        "colab": {
          "base_uri": "https://localhost:8080/"
        },
        "id": "7mVb8lIrx37R",
        "outputId": "479e3786-37e7-4aa4-fe2b-da0c5762d740"
      },
      "execution_count": null,
      "outputs": [
        {
          "output_type": "stream",
          "name": "stdout",
          "text": [
            "HELLOPYTHON\n"
          ]
        }
      ]
    },
    {
      "cell_type": "code",
      "source": [
        "def sum(a,b):\n",
        "   print('a+b=',(a+b))\n",
        "sum(22,25)"
      ],
      "metadata": {
        "colab": {
          "base_uri": "https://localhost:8080/"
        },
        "id": "co6KGYuPzJw0",
        "outputId": "9634510d-a60f-48d0-e484-d00f90596e30"
      },
      "execution_count": null,
      "outputs": [
        {
          "output_type": "stream",
          "name": "stdout",
          "text": [
            "a+b= 47\n"
          ]
        }
      ]
    },
    {
      "cell_type": "code",
      "source": [
        "a=int(input(\"Enter the value of a: \"))\n",
        "b=int(input(\"Enter the value of b:\"))\n",
        "def sum(a,b):\n",
        "   print('a+b=',(a+b))\n",
        "sum(a,b)"
      ],
      "metadata": {
        "colab": {
          "base_uri": "https://localhost:8080/"
        },
        "id": "CJg-g8BKza24",
        "outputId": "9e3cec79-7f5b-417b-c795-9441172dce86"
      },
      "execution_count": null,
      "outputs": [
        {
          "output_type": "stream",
          "name": "stdout",
          "text": [
            "Enter the value of a: 12\n",
            "Enter the value of b:13\n",
            "a+b= 25\n"
          ]
        }
      ]
    },
    {
      "cell_type": "markdown",
      "source": [
        "Write a python program using function take the input from the keyboard of a number to reverse it and count no of odd and evens"
      ],
      "metadata": {
        "id": "82y9Ayvc0Rnf"
      }
    }
  ]
}